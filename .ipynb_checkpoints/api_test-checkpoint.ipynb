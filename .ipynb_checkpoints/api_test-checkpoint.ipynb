{
 "cells": [
  {
   "cell_type": "code",
   "execution_count": 2,
   "id": "648ff664",
   "metadata": {},
   "outputs": [],
   "source": [
    "import requests"
   ]
  },
  {
   "cell_type": "code",
   "execution_count": 23,
   "id": "a71356d0",
   "metadata": {},
   "outputs": [],
   "source": [
    "# get\n",
    "api_url=\"http://127.0.0.1:8000/api/todos\"\n",
    "api_url=\"http://127.0.0.1:8000/api/todos/1\"\n",
    "api_url=\"http://127.0.0.1:8000/api/todos/user/1\""
   ]
  },
  {
   "cell_type": "code",
   "execution_count": 25,
   "id": "20572259",
   "metadata": {},
   "outputs": [
    {
     "data": {
      "text/plain": [
       "{'success': True,\n",
       " 'request_date': '2023-12-10 11:20:48',\n",
       " 'data': [{'id': 2,\n",
       "   'title': '測試',\n",
       "   'text': '123',\n",
       "   'created': '2023-12-10 09:20:05',\n",
       "   'date_completed': None,\n",
       "   'important': False,\n",
       "   'completed': False,\n",
       "   'user': {'name': 'jerry', 'email': 'iiiplay001@gmail.com'}},\n",
       "  {'id': 3,\n",
       "   'title': '測試２',\n",
       "   'text': '１２２３',\n",
       "   'created': '2023-12-10 09:20:16',\n",
       "   'date_completed': None,\n",
       "   'important': True,\n",
       "   'completed': True,\n",
       "   'user': {'name': 'jerry', 'email': 'iiiplay001@gmail.com'}}],\n",
       " 'message': ''}"
      ]
     },
     "execution_count": 25,
     "metadata": {},
     "output_type": "execute_result"
    }
   ],
   "source": [
    "datas=requests.get(api_url).json()\n",
    "datas"
   ]
  },
  {
   "cell_type": "code",
   "execution_count": 26,
   "id": "1589d74b",
   "metadata": {},
   "outputs": [
    {
     "name": "stdout",
     "output_type": "stream",
     "text": [
      "jerry iiiplay001@gmail.com\n",
      "jerry iiiplay001@gmail.com\n"
     ]
    }
   ],
   "source": [
    "if datas['success']:\n",
    "    todos=datas['data']\n",
    "    for todo in todos:\n",
    "        user=todo['user']\n",
    "        print(user['name'],user['email'])"
   ]
  },
  {
   "cell_type": "code",
   "execution_count": null,
   "id": "93ae607e",
   "metadata": {},
   "outputs": [],
   "source": []
  }
 ],
 "metadata": {
  "kernelspec": {
   "display_name": "Python 3 (ipykernel)",
   "language": "python",
   "name": "python3"
  },
  "language_info": {
   "codemirror_mode": {
    "name": "ipython",
    "version": 3
   },
   "file_extension": ".py",
   "mimetype": "text/x-python",
   "name": "python",
   "nbconvert_exporter": "python",
   "pygments_lexer": "ipython3",
   "version": "3.11.5"
  }
 },
 "nbformat": 4,
 "nbformat_minor": 5
}
